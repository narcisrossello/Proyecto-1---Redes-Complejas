{
 "cells": [
  {
   "cell_type": "markdown",
   "metadata": {},
   "source": [
    "# Primera Parte Obtención Datos\n",
    "Primera parte de recolección de datos. El Web Scraping hecho se hace a través de la herramienta BeautifulSoup con la que se recorre la información estática ofrecida por la página analizada en cuestión."
   ]
  },
  {
   "cell_type": "code",
   "execution_count": null,
   "metadata": {},
   "outputs": [],
   "source": [
    "from bs4 import BeautifulSoup\n",
    "import networkx as nx\n",
    "import requests"
   ]
  },
  {
   "cell_type": "code",
   "execution_count": 2,
   "metadata": {},
   "outputs": [],
   "source": [
    "#Lista de links a visitar\n",
    "madrid_link1 = 'https://www.metromadrid.es/en/linea/linea-{}'\n",
    "madrid_link2 = 'https://www.metromadrid.es/en/linea/linea-6-circular'\n",
    "madrid_link3 = 'https://www.metromadrid.es/en/linea/linea-12-metrosur'\n",
    "madrid_link4 = 'https://www.metromadrid.es/en/linea/ramal'\n",
    "madrid_link5 = 'https://www.metromadrid.es/en/linea/ml{}'"
   ]
  },
  {
   "cell_type": "code",
   "execution_count": 3,
   "metadata": {},
   "outputs": [],
   "source": [
    "#Variable instanciada contenedor del grafo obtenido a partir de la información sacada de los links anteriores\n",
    "G = nx.Graph()"
   ]
  },
  {
   "cell_type": "code",
   "execution_count": 4,
   "metadata": {},
   "outputs": [],
   "source": [
    "def addNodesEdgesEstacions(G, estacions):\n",
    "    previous = ''\n",
    "    aux = 0\n",
    "    for i in estacions:\n",
    "        #print(i.text)\n",
    "        G.add_node(i.text)\n",
    "        if aux != 0:\n",
    "            G.add_edge(i.text, previous)\n",
    "        aux += 1\n",
    "        previous = i.text"
   ]
  },
  {
   "cell_type": "code",
   "execution_count": 5,
   "metadata": {},
   "outputs": [],
   "source": [
    "def obtainPage(G, url):\n",
    "    page = requests.get(url)\n",
    "    estacions_html = BeautifulSoup(page.content, 'html.parser')\n",
    "    estacions = estacions_html.find_all('p', class_ = 'list-line__btn__text')\n",
    "    addNodesEdgesEstacions(G, estacions)"
   ]
  },
  {
   "cell_type": "code",
   "execution_count": 6,
   "metadata": {},
   "outputs": [],
   "source": [
    "def recorrerPages(G):\n",
    "    for iter in [x for x in range(1,12) if x != 6]:\n",
    "        obtainPage(G, madrid_link1.format(iter))\n",
    "        \n",
    "    obtainPage(G, madrid_link2)\n",
    "    obtainPage(G, madrid_link3)\n",
    "    obtainPage(G, madrid_link4)\n",
    "    \n",
    "    for iter in (1,4):\n",
    "        obtainPage(G, madrid_link5.format(iter))"
   ]
  },
  {
   "cell_type": "code",
   "execution_count": 7,
   "metadata": {},
   "outputs": [],
   "source": [
    "#Programa Principal\n",
    "recorrerPages(G)"
   ]
  },
  {
   "cell_type": "markdown",
   "metadata": {},
   "source": [
    "# Segunda Parte Obtención Datos\n",
    "Esta segunda parte de recolección de datos con el Web Scraping se hace con la herramienta Selenium a causa de consultar una web dinámica, por lo que la herramienta primera no nos sirve."
   ]
  },
  {
   "cell_type": "code",
   "execution_count": 8,
   "metadata": {},
   "outputs": [],
   "source": [
    "#Imports Necesarios\n",
    "from selenium import webdriver\n",
    "import time"
   ]
  },
  {
   "cell_type": "code",
   "execution_count": 9,
   "metadata": {},
   "outputs": [],
   "source": [
    "#Instacia del webdriver con el navegador Edge utilizando Selenium\n",
    "driver = webdriver.Edge()\n",
    "\n",
    "#Página a visitar con el driver iniciado\n",
    "cercanias_link = 'https://www.renfe.com/es/es/cercanias/cercanias-madrid/lineas'\n",
    "driver.get(cercanias_link)"
   ]
  },
  {
   "cell_type": "code",
   "execution_count": 10,
   "metadata": {},
   "outputs": [],
   "source": [
    "def addNodesEdgesEstacionsCercanias(estacions):\n",
    "    previous = ''\n",
    "    aux = 0\n",
    "    for i in estacions:\n",
    "        nom = i.text.replace('\\n', '').replace('·', '')\n",
    "        G.add_node(nom)\n",
    "        if aux != 0:\n",
    "            G.add_edge(nom, previous)\n",
    "        aux += 1\n",
    "        previous = nom"
   ]
  },
  {
   "cell_type": "code",
   "execution_count": 14,
   "metadata": {},
   "outputs": [],
   "source": [
    "def recolectCercanias(tabulador):\n",
    "    tabulador = driver.find_elements_by_class_name(\"rf-tab-detail-line__item\")\n",
    "\n",
    "    for i in tabulador:\n",
    "        i.click()\n",
    "        time.sleep(1)\n",
    "        elements = driver.find_elements_by_class_name(\"rf-list-detail__item-direction\")\n",
    "        addNodesEdgesEstacionsCercanias(elements)"
   ]
  },
  {
   "cell_type": "code",
   "execution_count": 15,
   "metadata": {},
   "outputs": [],
   "source": [
    "#Llamada al programa Principal\n",
    "tabulador = driver.find_elements_by_class_name(\"rf-tab-detail-line__item\")\n",
    "recolectCercanias(tabulador)"
   ]
  },
  {
   "cell_type": "markdown",
   "metadata": {},
   "source": [
    "# Análisis Del Grafo\n",
    "El análisis se divide en tres grandes partes. En primer lugar tenemos un análisis general. En segundo lugar tenemos un análisis de los diferentes características y valores que puede dar el grafo, teniendo información del Centrality, Betweenness, Closeness y el PageRank. Finalmente, se hacen diferentes visualizaciones gráficas del grafo."
   ]
  },
  {
   "cell_type": "markdown",
   "metadata": {},
   "source": [
    "Información General"
   ]
  },
  {
   "cell_type": "code",
   "execution_count": 16,
   "metadata": {},
   "outputs": [
    {
     "name": "stdout",
     "output_type": "stream",
     "text": [
      "Name: \n",
      "Type: Graph\n",
      "Number of nodes: 328\n",
      "Number of edges: 380\n",
      "Average degree:   2.3171\n"
     ]
    }
   ],
   "source": [
    "print(nx.info(G))"
   ]
  },
  {
   "cell_type": "code",
   "execution_count": 17,
   "metadata": {},
   "outputs": [
    {
     "name": "stdout",
     "output_type": "stream",
     "text": [
      "True\n"
     ]
    }
   ],
   "source": [
    "print(nx.is_connected(G))"
   ]
  },
  {
   "cell_type": "code",
   "execution_count": 18,
   "metadata": {},
   "outputs": [
    {
     "data": {
      "text/plain": [
       "36"
      ]
     },
     "execution_count": 18,
     "metadata": {},
     "output_type": "execute_result"
    }
   ],
   "source": [
    "nx.diameter(G)"
   ]
  },
  {
   "cell_type": "code",
   "execution_count": 19,
   "metadata": {},
   "outputs": [
    {
     "data": {
      "text/plain": [
       "0.007085850675020512"
      ]
     },
     "execution_count": 19,
     "metadata": {},
     "output_type": "execute_result"
    }
   ],
   "source": [
    "nx.density(G)"
   ]
  },
  {
   "cell_type": "code",
   "execution_count": 20,
   "metadata": {},
   "outputs": [
    {
     "data": {
      "text/plain": [
       "0.026865671641791045"
      ]
     },
     "execution_count": 20,
     "metadata": {},
     "output_type": "execute_result"
    }
   ],
   "source": [
    "nx.transitivity(G)"
   ]
  },
  {
   "cell_type": "code",
   "execution_count": 21,
   "metadata": {},
   "outputs": [
    {
     "data": {
      "text/plain": [
       "1"
      ]
     },
     "execution_count": 21,
     "metadata": {},
     "output_type": "execute_result"
    }
   ],
   "source": [
    "#Graf conectado por completo, por lo que el número de componentes conexas tiene que ser 1\n",
    "nx.number_connected_components(G)"
   ]
  },
  {
   "cell_type": "markdown",
   "metadata": {},
   "source": [
    "Índices de Centralidad"
   ]
  },
  {
   "cell_type": "code",
   "execution_count": 22,
   "metadata": {},
   "outputs": [],
   "source": [
    "#Centrality\n",
    "degs = nx.centrality.degree_centrality(G)"
   ]
  },
  {
   "cell_type": "code",
   "execution_count": 23,
   "metadata": {},
   "outputs": [
    {
     "name": "stdout",
     "output_type": "stream",
     "text": [
      "Sol  ->  0.024464831804281346\n",
      "Nuevos Ministerios  ->  0.024464831804281346\n",
      "Avenida de América  ->  0.021406727828746176\n",
      "Príncipe Pío  ->  0.021406727828746176\n",
      "Alonso Martínez  ->  0.01834862385321101\n",
      "Madrid Atocha Cercanías  ->  0.01834862385321101\n",
      "Plaza de Castilla  ->  0.01529051987767584\n",
      "Cuatro Caminos  ->  0.01529051987767584\n",
      "Ópera  ->  0.01529051987767584\n",
      "Villaverde Alto  ->  0.01529051987767584\n",
      "Diego de León  ->  0.01529051987767584\n",
      "Méndez Álvaro  ->  0.01529051987767584\n",
      "Bilbao  ->  0.012232415902140673\n",
      "Tribunal  ->  0.012232415902140673\n",
      "Gran Vía  ->  0.012232415902140673\n",
      "Pacífico  ->  0.012232415902140673\n",
      "Ventas  ->  0.012232415902140673\n",
      "Manuel Becerra  ->  0.012232415902140673\n",
      "Goya  ->  0.012232415902140673\n",
      "Príncipe de Vergara  ->  0.012232415902140673\n",
      "San Bernardo  ->  0.012232415902140673\n",
      "Canal  ->  0.012232415902140673\n",
      "Legazpi  ->  0.012232415902140673\n",
      "Delicias  ->  0.012232415902140673\n",
      "Embajadores  ->  0.012232415902140673\n",
      "Callao  ->  0.012232415902140673\n",
      "Plaza de España  ->  0.012232415902140673\n",
      "Argüelles  ->  0.012232415902140673\n",
      "Mar de Cristal  ->  0.012232415902140673\n",
      "Pueblo Nuevo  ->  0.012232415902140673\n",
      "Núñez de Balboa  ->  0.012232415902140673\n",
      "Pirámides  ->  0.012232415902140673\n",
      "Oporto  ->  0.012232415902140673\n",
      "Aluche  ->  0.012232415902140673\n",
      "Gregorio Marañón  ->  0.012232415902140673\n",
      "Guzmán el Bueno  ->  0.012232415902140673\n",
      "Pitis  ->  0.012232415902140673\n",
      "Colombia  ->  0.012232415902140673\n",
      "Sainz de Baranda  ->  0.012232415902140673\n",
      "Vicálvaro  ->  0.012232415902140673\n",
      "Fuencarral  ->  0.012232415902140673\n",
      "Cuatro Vientos  ->  0.012232415902140673\n",
      "El Casar  ->  0.012232415902140673\n",
      "Fuente de la Mora  ->  0.012232415902140673\n",
      "Madrid Chamartín  ->  0.012232415902140673\n",
      "Pinar de Chamartín  ->  0.009174311926605505\n",
      "Chamartín  ->  0.009174311926605505\n",
      "Casa de Campo  ->  0.009174311926605505\n",
      "Las Tablas  ->  0.009174311926605505\n",
      "Plaza Elíptica  ->  0.009174311926605505\n",
      "Laguna  ->  0.009174311926605505\n",
      "Villaverde Bajo  ->  0.009174311926605505\n",
      "Pinar de las Rozas  ->  0.009174311926605505\n",
      "Villalba de Guadarrama  ->  0.009174311926605505\n",
      "Universidad Cantoblanco  ->  0.009174311926605505\n",
      "Las Rozas  ->  0.009174311926605505\n",
      "Bambú  ->  0.0061162079510703364\n",
      "Valdeacederas  ->  0.0061162079510703364\n",
      "Tetuán  ->  0.0061162079510703364\n",
      "Estrecho  ->  0.0061162079510703364\n",
      "Alvarado  ->  0.0061162079510703364\n",
      "Ríos Rosas  ->  0.0061162079510703364\n",
      "Iglesia  ->  0.0061162079510703364\n",
      "Tirso de Molina  ->  0.0061162079510703364\n",
      "Antón Martín  ->  0.0061162079510703364\n",
      "Estación del Arte  ->  0.0061162079510703364\n",
      "Atocha-Renfe  ->  0.0061162079510703364\n",
      "Menéndez Pelayo  ->  0.0061162079510703364\n",
      "Puente de Vallecas  ->  0.0061162079510703364\n",
      "Nueva Numancia  ->  0.0061162079510703364\n",
      "Portazgo  ->  0.0061162079510703364\n",
      "Buenos Aires  ->  0.0061162079510703364\n",
      "Alto del Arenal  ->  0.0061162079510703364\n",
      "Miguel Hernández  ->  0.0061162079510703364\n",
      "Sierra de Guadalupe  ->  0.0061162079510703364\n",
      "Villa de Vallecas  ->  0.0061162079510703364\n",
      "Congosto  ->  0.0061162079510703364\n",
      "La Gavia  ->  0.0061162079510703364\n",
      "Las Suertes  ->  0.0061162079510703364\n",
      "Avenida de Guadalajara  ->  0.0061162079510703364\n",
      "Alsacia  ->  0.0061162079510703364\n",
      "La Almudena  ->  0.0061162079510703364\n",
      "La Elipa  ->  0.0061162079510703364\n",
      "Retiro  ->  0.0061162079510703364\n",
      "Banco de España  ->  0.0061162079510703364\n",
      "Sevilla  ->  0.0061162079510703364\n",
      "Santo Domingo  ->  0.0061162079510703364\n",
      "Noviciado  ->  0.0061162079510703364\n",
      "Quevedo  ->  0.0061162079510703364\n",
      "San Cristóbal  ->  0.0061162079510703364\n",
      "Villaverde Bajo-Cruce  ->  0.0061162079510703364\n",
      "Ciudad de los Ángeles  ->  0.0061162079510703364\n",
      "San Fermín-Orcasur  ->  0.0061162079510703364\n",
      "Hospital 12 de Octubre  ->  0.0061162079510703364\n",
      "Almendrales  ->  0.0061162079510703364\n",
      "Palos de la Frontera  ->  0.0061162079510703364\n",
      "Lavapiés  ->  0.0061162079510703364\n",
      "Ventura Rodríguez  ->  0.0061162079510703364\n",
      "Moncloa  ->  0.0061162079510703364\n",
      "Colón  ->  0.0061162079510703364\n",
      "Serrano  ->  0.0061162079510703364\n",
      "Velázquez  ->  0.0061162079510703364\n",
      "Lista  ->  0.0061162079510703364\n",
      "Prosperidad  ->  0.0061162079510703364\n",
      "Alfonso XIII  ->  0.0061162079510703364\n",
      "Avenida de La Paz  ->  0.0061162079510703364\n",
      "Arturo Soria  ->  0.0061162079510703364\n",
      "Esperanza  ->  0.0061162079510703364\n",
      "Canillas  ->  0.0061162079510703364\n",
      "San Lorenzo  ->  0.0061162079510703364\n",
      "Parque de Santa María  ->  0.0061162079510703364\n",
      "Hortaleza  ->  0.0061162079510703364\n",
      "Manoteras  ->  0.0061162079510703364\n",
      "El Capricho  ->  0.0061162079510703364\n",
      "Canillejas  ->  0.0061162079510703364\n",
      "Torre Arias  ->  0.0061162079510703364\n",
      "Suanzes  ->  0.0061162079510703364\n",
      "Ciudad Lineal  ->  0.0061162079510703364\n",
      "Quintana  ->  0.0061162079510703364\n",
      "El Carmen  ->  0.0061162079510703364\n",
      "Rubén Darío  ->  0.0061162079510703364\n",
      "Chueca  ->  0.0061162079510703364\n",
      "La Latina  ->  0.0061162079510703364\n",
      "Puerta de Toledo  ->  0.0061162079510703364\n",
      "Acacias  ->  0.0061162079510703364\n",
      "Marqués de Vadillo  ->  0.0061162079510703364\n",
      "Urgel  ->  0.0061162079510703364\n",
      "Vista Alegre  ->  0.0061162079510703364\n",
      "Carabanchel  ->  0.0061162079510703364\n",
      "Eugenia de Montijo  ->  0.0061162079510703364\n",
      "Empalme  ->  0.0061162079510703364\n",
      "Campamento  ->  0.0061162079510703364\n",
      "Henares  ->  0.0061162079510703364\n",
      "Jarama  ->  0.0061162079510703364\n",
      "San Fernando  ->  0.0061162079510703364\n",
      "La Rambla  ->  0.0061162079510703364\n",
      "Coslada Central  ->  0.0061162079510703364\n",
      "Barrio del Puerto  ->  0.0061162079510703364\n",
      "Estadio Metropolitano  ->  0.0061162079510703364\n",
      "Las Musas  ->  0.0061162079510703364\n",
      "San Blas  ->  0.0061162079510703364\n",
      "Simancas  ->  0.0061162079510703364\n",
      "García Noblejas  ->  0.0061162079510703364\n",
      "Ascao  ->  0.0061162079510703364\n",
      "Barrio de la Concepción  ->  0.0061162079510703364\n",
      "Parque de las Avenidas  ->  0.0061162079510703364\n",
      "Cartagena  ->  0.0061162079510703364\n",
      "Alonso Cano  ->  0.0061162079510703364\n",
      "Islas Filipinas  ->  0.0061162079510703364\n",
      "Francos Rodríguez  ->  0.0061162079510703364\n",
      "Valdezarza  ->  0.0061162079510703364\n",
      "Antonio Machado  ->  0.0061162079510703364\n",
      "Peñagrande  ->  0.0061162079510703364\n",
      "Avenida de la Ilustración  ->  0.0061162079510703364\n",
      "Lacoma  ->  0.0061162079510703364\n",
      "Arroyofresno  ->  0.0061162079510703364\n",
      "Pinar del Rey  ->  0.0061162079510703364\n",
      "Feria de Madrid  ->  0.0061162079510703364\n",
      "Aeropuerto T1-T2-T3  ->  0.0061162079510703364\n",
      "Barajas  ->  0.0061162079510703364\n",
      "Mirasierra  ->  0.0061162079510703364\n",
      "Herrera Oria  ->  0.0061162079510703364\n",
      "Barrio del Pilar  ->  0.0061162079510703364\n",
      "Ventilla  ->  0.0061162079510703364\n",
      "Duque de Pastrana  ->  0.0061162079510703364\n",
      "Pío XII  ->  0.0061162079510703364\n",
      "Concha Espina  ->  0.0061162079510703364\n",
      "Cruz del Rayo  ->  0.0061162079510703364\n",
      "Ibiza  ->  0.0061162079510703364\n",
      "Estrella  ->  0.0061162079510703364\n",
      "Vinateros  ->  0.0061162079510703364\n",
      "Artilleros  ->  0.0061162079510703364\n",
      "Pavones  ->  0.0061162079510703364\n",
      "Valdebernardo  ->  0.0061162079510703364\n",
      "San Cipriano  ->  0.0061162079510703364\n",
      "Puerta de Arganda  ->  0.0061162079510703364\n",
      "Rivas Urbanizaciones  ->  0.0061162079510703364\n",
      "Rivas Futura  ->  0.0061162079510703364\n",
      "Rivas Vaciamadrid  ->  0.0061162079510703364\n",
      "La Poveda  ->  0.0061162079510703364\n",
      "Reyes Católicos  ->  0.0061162079510703364\n",
      "Baunatal  ->  0.0061162079510703364\n",
      "Manuel de Falla  ->  0.0061162079510703364\n",
      "Marqués de la Valdavia  ->  0.0061162079510703364\n",
      "La Moraleja  ->  0.0061162079510703364\n",
      "La Granja  ->  0.0061162079510703364\n",
      "Ronda de la Comunicación  ->  0.0061162079510703364\n",
      "Montecarmelo  ->  0.0061162079510703364\n",
      "Tres Olivos  ->  0.0061162079510703364\n",
      "Begoña  ->  0.0061162079510703364\n",
      "Cuzco  ->  0.0061162079510703364\n",
      "Santiago Bernabéu  ->  0.0061162079510703364\n",
      "Lago  ->  0.0061162079510703364\n",
      "Batán  ->  0.0061162079510703364\n",
      "Colonia Jardín  ->  0.0061162079510703364\n",
      "Aviación Española  ->  0.0061162079510703364\n",
      "Joaquín Vilumbrales  ->  0.0061162079510703364\n",
      "Puerta del Sur  ->  0.0061162079510703364\n",
      "Abrantes  ->  0.0061162079510703364\n",
      "Pan Bendito  ->  0.0061162079510703364\n",
      "San Francisco  ->  0.0061162079510703364\n",
      "Carabanchel Alto  ->  0.0061162079510703364\n",
      "La Peseta  ->  0.0061162079510703364\n",
      "Carpetana  ->  0.0061162079510703364\n",
      "Opañel  ->  0.0061162079510703364\n",
      "Usera  ->  0.0061162079510703364\n",
      "Arganzuela-Planetario  ->  0.0061162079510703364\n",
      "Conde de Casal  ->  0.0061162079510703364\n",
      "O´Donnell  ->  0.0061162079510703364\n",
      "República Argentina  ->  0.0061162079510703364\n",
      "Vicente Aleixandre  ->  0.0061162079510703364\n",
      "Ciudad Universitaria  ->  0.0061162079510703364\n",
      "Puerta del Ángel  ->  0.0061162079510703364\n",
      "Alto de Extremadura  ->  0.0061162079510703364\n",
      "Parque de Lisboa  ->  0.0061162079510703364\n",
      "Alcorcón Central  ->  0.0061162079510703364\n",
      "Parque Oeste  ->  0.0061162079510703364\n",
      "Universidad Rey Juan Carlos  ->  0.0061162079510703364\n",
      "Móstoles Central  ->  0.0061162079510703364\n",
      "Pradillo  ->  0.0061162079510703364\n",
      "Hospital de Móstoles  ->  0.0061162079510703364\n",
      "Manuela Malasaña  ->  0.0061162079510703364\n",
      "Loranca  ->  0.0061162079510703364\n",
      "Hospital de Fuenlabrada  ->  0.0061162079510703364\n",
      "Parque Europa  ->  0.0061162079510703364\n",
      "Fuenlabrada Central  ->  0.0061162079510703364\n",
      "Parque de los Estados  ->  0.0061162079510703364\n",
      "Arroyo Culebro  ->  0.0061162079510703364\n",
      "Conservatorio  ->  0.0061162079510703364\n",
      "Alonso de Mendoza  ->  0.0061162079510703364\n",
      "Getafe Central  ->  0.0061162079510703364\n",
      "Juan de la Cierva  ->  0.0061162079510703364\n",
      "Los Espartales  ->  0.0061162079510703364\n",
      "El Bercial  ->  0.0061162079510703364\n",
      "El Carrascal  ->  0.0061162079510703364\n",
      "Julián Besteiro  ->  0.0061162079510703364\n",
      "Casa del Reloj  ->  0.0061162079510703364\n",
      "Hospital Severo Ochoa  ->  0.0061162079510703364\n",
      "Leganés Central  ->  0.0061162079510703364\n",
      "Virgen del Cortijo  ->  0.0061162079510703364\n",
      "Antonio Saura  ->  0.0061162079510703364\n",
      "Álvarez de Villaamil  ->  0.0061162079510703364\n",
      "Blasco Ibáñez  ->  0.0061162079510703364\n",
      "María Tudor  ->  0.0061162079510703364\n",
      "Palas de Rey  ->  0.0061162079510703364\n",
      "Recoletos  ->  0.0061162079510703364\n",
      "Valdebebas  ->  0.0061162079510703364\n",
      "Azuqueca  ->  0.0061162079510703364\n",
      "Meco  ->  0.0061162079510703364\n",
      "Alcalá de Henares Universidad  ->  0.0061162079510703364\n",
      "Alcalá de Henares  ->  0.0061162079510703364\n",
      "La Garena  ->  0.0061162079510703364\n",
      "Soto del Henares  ->  0.0061162079510703364\n",
      "Torrejón de Ardoz  ->  0.0061162079510703364\n",
      "San Fernando de Henares  ->  0.0061162079510703364\n",
      "Coslada  ->  0.0061162079510703364\n",
      "Santa Eugenia  ->  0.0061162079510703364\n",
      "Vallecas  ->  0.0061162079510703364\n",
      "El Pozo  ->  0.0061162079510703364\n",
      "Asamblea de Madrid-Entrevías  ->  0.0061162079510703364\n",
      "Ciempozuelos  ->  0.0061162079510703364\n",
      "Valdemoro  ->  0.0061162079510703364\n",
      "Pinto  ->  0.0061162079510703364\n",
      "Getafe-Industrial  ->  0.0061162079510703364\n",
      "San Cristobal Industrial  ->  0.0061162079510703364\n",
      "San Cristobal de los Ángeles  ->  0.0061162079510703364\n",
      "Ramón y Cajal  ->  0.0061162079510703364\n",
      "Mirasierra-Paco de Lucía  ->  0.0061162079510703364\n",
      "Las Matas  ->  0.0061162079510703364\n",
      "Torrelodones  ->  0.0061162079510703364\n",
      "Galapagar la Navata  ->  0.0061162079510703364\n",
      "San Yago  ->  0.0061162079510703364\n",
      "Las Zorreras-Navalquejigo  ->  0.0061162079510703364\n",
      "El Escorial  ->  0.0061162079510703364\n",
      "Zarzalejo  ->  0.0061162079510703364\n",
      "Robledo de Chavela  ->  0.0061162079510703364\n",
      "Getafe Sector 3  ->  0.0061162079510703364\n",
      "Getafe-Centro  ->  0.0061162079510703364\n",
      "Las Margaritas  ->  0.0061162079510703364\n",
      "Universidad Pontificia de Comillas  ->  0.0061162079510703364\n",
      "Valdelasfuentes  ->  0.0061162079510703364\n",
      "El Goloso  ->  0.0061162079510703364\n",
      "Tres Cantos  ->  0.0061162079510703364\n",
      "Móstoles  ->  0.0061162079510703364\n",
      "Las Retamas  ->  0.0061162079510703364\n",
      "Alcorcón  ->  0.0061162079510703364\n",
      "San José de Valderas  ->  0.0061162079510703364\n",
      "Las Águilas  ->  0.0061162079510703364\n",
      "Fanjul  ->  0.0061162079510703364\n",
      "Doce de Octubre  ->  0.0061162079510703364\n",
      "Orcasitas  ->  0.0061162079510703364\n",
      "Puente Alcocer  ->  0.0061162079510703364\n",
      "Zarzaquemada  ->  0.0061162079510703364\n",
      "Leganés  ->  0.0061162079510703364\n",
      "Parque Polvoranca  ->  0.0061162079510703364\n",
      "La Serna  ->  0.0061162079510703364\n",
      "Fuenlabrada  ->  0.0061162079510703364\n",
      "Majadahonda  ->  0.0061162079510703364\n",
      "EL Barrial-Centro Comercial  ->  0.0061162079510703364\n",
      "Pozuelo  ->  0.0061162079510703364\n",
      "Aravaca  ->  0.0061162079510703364\n",
      "Los Negrales  ->  0.0061162079510703364\n",
      "Apedrete  ->  0.0061162079510703364\n",
      "Collado Mediano  ->  0.0061162079510703364\n",
      "Los Molinos  ->  0.0061162079510703364\n",
      "Cercedilla  ->  0.0061162079510703364\n",
      "Puerto de Navacerrada  ->  0.0061162079510703364\n",
      "Valdecarros  ->  0.0030581039755351682\n",
      "Las Rosas  ->  0.0030581039755351682\n",
      "Alameda de Osuna  ->  0.0030581039755351682\n",
      "Hospital del Henares  ->  0.0030581039755351682\n",
      "Aeropuerto T-4  ->  0.0030581039755351682\n",
      "Paco de Lucía  ->  0.0030581039755351682\n",
      "Arganda del Rey  ->  0.0030581039755351682\n",
      "Hospital Infanta Sofía  ->  0.0030581039755351682\n",
      "La Fortuna  ->  0.0030581039755351682\n",
      "Lucero  ->  0.0030581039755351682\n",
      "San Nicasio  ->  0.0030581039755351682\n",
      "Aeropuerto T4  ->  0.0030581039755351682\n",
      "Guadalajara  ->  0.0030581039755351682\n",
      "Aranjuez  ->  0.0030581039755351682\n",
      "Santa María de la Alameda  ->  0.0030581039755351682\n",
      "Parla  ->  0.0030581039755351682\n",
      "Alcobendas-San Sebastián de los Reyes  ->  0.0030581039755351682\n",
      "Colmenar Viejo  ->  0.0030581039755351682\n",
      "Móstoles el Soto  ->  0.0030581039755351682\n",
      "Humanes  ->  0.0030581039755351682\n",
      "Cotos  ->  0.0030581039755351682\n"
     ]
    }
   ],
   "source": [
    "#Valores de Centralidad ordenados de mayor a menor\n",
    "import operator\n",
    "degs_sort = sorted(degs.items(), key=operator.itemgetter(1), reverse=True)\n",
    "for deg in enumerate(degs_sort):\n",
    "    print(deg[1][0], ' -> ', degs[deg[1][0]])"
   ]
  },
  {
   "cell_type": "code",
   "execution_count": 24,
   "metadata": {},
   "outputs": [
    {
     "data": {
      "text/plain": [
       "['Avenida de América', 'Príncipe Pío', 'Sol', 'Nuevos Ministerios']"
      ]
     },
     "execution_count": 24,
     "metadata": {},
     "output_type": "execute_result"
    }
   ],
   "source": [
    "#Nodos con más grado\n",
    "sorted(degs, key=lambda p: degs[p])[-4:]"
   ]
  },
  {
   "cell_type": "code",
   "execution_count": 27,
   "metadata": {},
   "outputs": [
    {
     "data": {
      "text/plain": [
       "['Recoletos', 'Madrid Atocha Cercanías', 'Nuevos Ministerios', 'Sol']"
      ]
     },
     "execution_count": 27,
     "metadata": {},
     "output_type": "execute_result"
    }
   ],
   "source": [
    "#Closeness\n",
    "close = nx.centrality.closeness_centrality(G)\n",
    "sorted(close, key=lambda p: close[p])[-4:]"
   ]
  },
  {
   "cell_type": "code",
   "execution_count": 28,
   "metadata": {},
   "outputs": [
    {
     "data": {
      "text/plain": [
       "['Madrid Chamartín', 'Sol', 'Madrid Atocha Cercanías', 'Nuevos Ministerios']"
      ]
     },
     "execution_count": 28,
     "metadata": {},
     "output_type": "execute_result"
    }
   ],
   "source": [
    "#Betweenness\n",
    "betw = nx.centrality.betweenness_centrality(G)\n",
    "sorted(betw, key=lambda p: betw[p])[-4:]"
   ]
  },
  {
   "cell_type": "code",
   "execution_count": 29,
   "metadata": {},
   "outputs": [
    {
     "data": {
      "text/plain": [
       "['Avenida de América', 'Príncipe Pío', 'Sol', 'Nuevos Ministerios']"
      ]
     },
     "execution_count": 29,
     "metadata": {},
     "output_type": "execute_result"
    }
   ],
   "source": [
    "#PageRank\n",
    "pager = nx.pagerank(G)\n",
    "sorted(pager, key=lambda p: pager[p])[-4:]"
   ]
  },
  {
   "cell_type": "markdown",
   "metadata": {},
   "source": [
    "Distribución Grados de los nodos"
   ]
  },
  {
   "cell_type": "code",
   "execution_count": 25,
   "metadata": {},
   "outputs": [
    {
     "data": {
      "text/plain": [
       "(array([ 21., 251.,  11.,  33.,   6.,   2.,   2.,   2.]),\n",
       " array([0.0030581 , 0.00573394, 0.00840979, 0.01108563, 0.01376147,\n",
       "        0.01643731, 0.01911315, 0.02178899, 0.02446483]),\n",
       " <a list of 8 Patch objects>)"
      ]
     },
     "execution_count": 25,
     "metadata": {},
     "output_type": "execute_result"
    },
    {
     "data": {
      "image/png": "[encoded data removed]",
      "text/plain": [
       "<Figure size 432x288 with 1 Axes>"
      ]
     },
     "metadata": {
      "needs_background": "light"
     },
     "output_type": "display_data"
    }
   ],
   "source": [
    "import matplotlib.pylab as plt\n",
    "%matplotlib inline\n",
    "plt.hist(degs.values(),bins=8)"
   ]
  },
  {
   "cell_type": "markdown",
   "metadata": {},
   "source": [
    "Visualización"
   ]
  },
  {
   "cell_type": "code",
   "execution_count": 34,
   "metadata": {},
   "outputs": [],
   "source": [
    "#Visualización del Grafo con etiquetas\n",
    "#%matplotlib inline\n",
    "%matplotlib qt\n",
    "nx.draw_kamada_kawai(G, with_labels = True)"
   ]
  },
  {
   "cell_type": "code",
   "execution_count": 49,
   "metadata": {},
   "outputs": [],
   "source": [
    "#Grafo Coloreado\n",
    "nx.draw(G, with_labels=False, node_color=list(degs.values()), cmap=plt.cm.Blues)"
   ]
  },
  {
   "cell_type": "code",
   "execution_count": null,
   "metadata": {},
   "outputs": [],
   "source": []
  }
 ],
 "metadata": {
  "kernelspec": {
   "display_name": "Python 3",
   "language": "python",
   "name": "python3"
  },
  "language_info": {
   "codemirror_mode": {
    "name": "ipython",
    "version": 3
   },
   "file_extension": ".py",
   "mimetype": "text/x-python",
   "name": "python",
   "nbconvert_exporter": "python",
   "pygments_lexer": "ipython3",
   "version": "3.7.4"
  }
 },
 "nbformat": 4,
 "nbformat_minor": 2
}
